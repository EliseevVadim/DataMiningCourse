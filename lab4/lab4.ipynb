{
 "cells": [
  {
   "cell_type": "markdown",
   "id": "95b98f46",
   "metadata": {},
   "source": [
    "# Лабораторная работа №4"
   ]
  },
  {
   "cell_type": "markdown",
   "id": "759a7a65",
   "metadata": {},
   "source": [
    "Задание и этапы работы:\n",
    "\n",
    "1. Выделить обучающую и тестовую выборки.\n",
    "2. Определить наилучшее значение k.\n",
    "3. Оценить качество прогноза на тестовой выборке с помощью таблицы сопряженности.\n",
    "4. Выдать процент ошибок, допущенных классификатором на тестовой выборке."
   ]
  },
  {
   "cell_type": "markdown",
   "id": "b7bbbb90",
   "metadata": {},
   "source": [
    "## Импорт необходимых библиотек"
   ]
  },
  {
   "cell_type": "code",
   "execution_count": 1,
   "id": "cbdb6372",
   "metadata": {},
   "outputs": [],
   "source": [
    "import pandas as pd\n",
    "import numpy as np\n",
    "import random\n",
    "import matplotlib.pyplot as plt\n",
    "import seaborn as sns"
   ]
  },
  {
   "cell_type": "code",
   "execution_count": 2,
   "id": "d85d1052",
   "metadata": {},
   "outputs": [],
   "source": [
    "from sklearn.model_selection import train_test_split\n",
    "from sklearn.neighbors import KNeighborsClassifier\n",
    "from sklearn.metrics import accuracy_score, f1_score, confusion_matrix \n",
    "from sklearn.calibration import CalibratedClassifierCV\n",
    "from sklearn.model_selection import GridSearchCV\n",
    "from sklearn.model_selection import StratifiedKFold\n",
    "from sklearn.manifold import MDS"
   ]
  },
  {
   "cell_type": "markdown",
   "id": "3398069e",
   "metadata": {},
   "source": [
    "Для воспроизводимости экспериментов"
   ]
  },
  {
   "cell_type": "code",
   "execution_count": 3,
   "id": "d4b145c6",
   "metadata": {},
   "outputs": [],
   "source": [
    "random.seed(42)\n",
    "np.random.seed(42)"
   ]
  },
  {
   "cell_type": "markdown",
   "id": "ae53fab5",
   "metadata": {},
   "source": [
    "## Загрузка и первичный анализ данных"
   ]
  },
  {
   "cell_type": "code",
   "execution_count": 4,
   "id": "3d0cbfcf",
   "metadata": {},
   "outputs": [],
   "source": [
    "data_path = 'data'"
   ]
  },
  {
   "cell_type": "code",
   "execution_count": 5,
   "id": "1735c505",
   "metadata": {},
   "outputs": [
    {
     "data": {
      "text/html": [
       "<div>\n",
       "<style scoped>\n",
       "    .dataframe tbody tr th:only-of-type {\n",
       "        vertical-align: middle;\n",
       "    }\n",
       "\n",
       "    .dataframe tbody tr th {\n",
       "        vertical-align: top;\n",
       "    }\n",
       "\n",
       "    .dataframe thead th {\n",
       "        text-align: right;\n",
       "    }\n",
       "</style>\n",
       "<table border=\"1\" class=\"dataframe\">\n",
       "  <thead>\n",
       "    <tr style=\"text-align: right;\">\n",
       "      <th></th>\n",
       "      <th>DIGIT</th>\n",
       "      <th>B2</th>\n",
       "      <th>C2</th>\n",
       "      <th>D2</th>\n",
       "      <th>E2</th>\n",
       "      <th>F2</th>\n",
       "      <th>G2</th>\n",
       "      <th>H2</th>\n",
       "    </tr>\n",
       "  </thead>\n",
       "  <tbody>\n",
       "    <tr>\n",
       "      <th>361</th>\n",
       "      <td>zero</td>\n",
       "      <td>ONE</td>\n",
       "      <td>ONE</td>\n",
       "      <td>ONE</td>\n",
       "      <td>ZERO</td>\n",
       "      <td>ONE</td>\n",
       "      <td>ONE</td>\n",
       "      <td>ZERO</td>\n",
       "    </tr>\n",
       "    <tr>\n",
       "      <th>73</th>\n",
       "      <td>six</td>\n",
       "      <td>ONE</td>\n",
       "      <td>ZERO</td>\n",
       "      <td>ZERO</td>\n",
       "      <td>ONE</td>\n",
       "      <td>ZERO</td>\n",
       "      <td>ONE</td>\n",
       "      <td>ONE</td>\n",
       "    </tr>\n",
       "    <tr>\n",
       "      <th>374</th>\n",
       "      <td>zero</td>\n",
       "      <td>ONE</td>\n",
       "      <td>ONE</td>\n",
       "      <td>ONE</td>\n",
       "      <td>ZERO</td>\n",
       "      <td>ONE</td>\n",
       "      <td>ONE</td>\n",
       "      <td>ONE</td>\n",
       "    </tr>\n",
       "    <tr>\n",
       "      <th>155</th>\n",
       "      <td>two</td>\n",
       "      <td>ONE</td>\n",
       "      <td>ZERO</td>\n",
       "      <td>ONE</td>\n",
       "      <td>ONE</td>\n",
       "      <td>ONE</td>\n",
       "      <td>ZERO</td>\n",
       "      <td>ONE</td>\n",
       "    </tr>\n",
       "    <tr>\n",
       "      <th>104</th>\n",
       "      <td>three</td>\n",
       "      <td>ONE</td>\n",
       "      <td>ONE</td>\n",
       "      <td>ONE</td>\n",
       "      <td>ONE</td>\n",
       "      <td>ZERO</td>\n",
       "      <td>ONE</td>\n",
       "      <td>ONE</td>\n",
       "    </tr>\n",
       "    <tr>\n",
       "      <th>394</th>\n",
       "      <td>eight</td>\n",
       "      <td>ZERO</td>\n",
       "      <td>ONE</td>\n",
       "      <td>ONE</td>\n",
       "      <td>ONE</td>\n",
       "      <td>ONE</td>\n",
       "      <td>ONE</td>\n",
       "      <td>ONE</td>\n",
       "    </tr>\n",
       "    <tr>\n",
       "      <th>377</th>\n",
       "      <td>nine</td>\n",
       "      <td>ONE</td>\n",
       "      <td>ONE</td>\n",
       "      <td>ONE</td>\n",
       "      <td>ONE</td>\n",
       "      <td>ZERO</td>\n",
       "      <td>ONE</td>\n",
       "      <td>ONE</td>\n",
       "    </tr>\n",
       "    <tr>\n",
       "      <th>124</th>\n",
       "      <td>six</td>\n",
       "      <td>ONE</td>\n",
       "      <td>ONE</td>\n",
       "      <td>ZERO</td>\n",
       "      <td>ONE</td>\n",
       "      <td>ONE</td>\n",
       "      <td>ONE</td>\n",
       "      <td>ONE</td>\n",
       "    </tr>\n",
       "    <tr>\n",
       "      <th>68</th>\n",
       "      <td>two</td>\n",
       "      <td>ZERO</td>\n",
       "      <td>ZERO</td>\n",
       "      <td>ONE</td>\n",
       "      <td>ONE</td>\n",
       "      <td>ONE</td>\n",
       "      <td>ZERO</td>\n",
       "      <td>ONE</td>\n",
       "    </tr>\n",
       "    <tr>\n",
       "      <th>450</th>\n",
       "      <td>nine</td>\n",
       "      <td>ONE</td>\n",
       "      <td>ONE</td>\n",
       "      <td>ONE</td>\n",
       "      <td>ONE</td>\n",
       "      <td>ZERO</td>\n",
       "      <td>ONE</td>\n",
       "      <td>ONE</td>\n",
       "    </tr>\n",
       "  </tbody>\n",
       "</table>\n",
       "</div>"
      ],
      "text/plain": [
       "     DIGIT    B2    C2    D2    E2    F2    G2    H2\n",
       "361   zero   ONE   ONE   ONE  ZERO   ONE   ONE  ZERO\n",
       "73     six   ONE  ZERO  ZERO   ONE  ZERO   ONE   ONE\n",
       "374   zero   ONE   ONE   ONE  ZERO   ONE   ONE   ONE\n",
       "155    two   ONE  ZERO   ONE   ONE   ONE  ZERO   ONE\n",
       "104  three   ONE   ONE   ONE   ONE  ZERO   ONE   ONE\n",
       "394  eight  ZERO   ONE   ONE   ONE   ONE   ONE   ONE\n",
       "377   nine   ONE   ONE   ONE   ONE  ZERO   ONE   ONE\n",
       "124    six   ONE   ONE  ZERO   ONE   ONE   ONE   ONE\n",
       "68     two  ZERO  ZERO   ONE   ONE   ONE  ZERO   ONE\n",
       "450   nine   ONE   ONE   ONE   ONE  ZERO   ONE   ONE"
      ]
     },
     "execution_count": 5,
     "metadata": {},
     "output_type": "execute_result"
    }
   ],
   "source": [
    "digits_df = pd.read_csv(f\"{data_path}/digit_2.csv\", sep=';')\n",
    "digits_df.sample(10)"
   ]
  },
  {
   "cell_type": "markdown",
   "id": "8ec99bc8",
   "metadata": {},
   "source": [
    "Посмотрим на типы данных в датасете"
   ]
  },
  {
   "cell_type": "code",
   "execution_count": 6,
   "id": "2d36f062",
   "metadata": {},
   "outputs": [
    {
     "data": {
      "text/plain": [
       "DIGIT    object\n",
       "B2       object\n",
       "C2       object\n",
       "D2       object\n",
       "E2       object\n",
       "F2       object\n",
       "G2       object\n",
       "H2       object\n",
       "dtype: object"
      ]
     },
     "execution_count": 6,
     "metadata": {},
     "output_type": "execute_result"
    }
   ],
   "source": [
    "digits_df.dtypes"
   ]
  },
  {
   "cell_type": "markdown",
   "id": "8847d696",
   "metadata": {},
   "source": [
    "Видим, что все переменные являются строковыми, возможно идет речь о категориальных переменных. Проверим это, посмотрев на описательные статистики датасета"
   ]
  },
  {
   "cell_type": "code",
   "execution_count": 7,
   "id": "01155a16",
   "metadata": {},
   "outputs": [
    {
     "data": {
      "text/html": [
       "<div>\n",
       "<style scoped>\n",
       "    .dataframe tbody tr th:only-of-type {\n",
       "        vertical-align: middle;\n",
       "    }\n",
       "\n",
       "    .dataframe tbody tr th {\n",
       "        vertical-align: top;\n",
       "    }\n",
       "\n",
       "    .dataframe thead th {\n",
       "        text-align: right;\n",
       "    }\n",
       "</style>\n",
       "<table border=\"1\" class=\"dataframe\">\n",
       "  <thead>\n",
       "    <tr style=\"text-align: right;\">\n",
       "      <th></th>\n",
       "      <th>DIGIT</th>\n",
       "      <th>B2</th>\n",
       "      <th>C2</th>\n",
       "      <th>D2</th>\n",
       "      <th>E2</th>\n",
       "      <th>F2</th>\n",
       "      <th>G2</th>\n",
       "      <th>H2</th>\n",
       "    </tr>\n",
       "  </thead>\n",
       "  <tbody>\n",
       "    <tr>\n",
       "      <th>count</th>\n",
       "      <td>500</td>\n",
       "      <td>500</td>\n",
       "      <td>500</td>\n",
       "      <td>500</td>\n",
       "      <td>500</td>\n",
       "      <td>500</td>\n",
       "      <td>500</td>\n",
       "      <td>500</td>\n",
       "    </tr>\n",
       "    <tr>\n",
       "      <th>unique</th>\n",
       "      <td>10</td>\n",
       "      <td>2</td>\n",
       "      <td>2</td>\n",
       "      <td>2</td>\n",
       "      <td>2</td>\n",
       "      <td>2</td>\n",
       "      <td>2</td>\n",
       "      <td>2</td>\n",
       "    </tr>\n",
       "    <tr>\n",
       "      <th>top</th>\n",
       "      <td>eight</td>\n",
       "      <td>ONE</td>\n",
       "      <td>ONE</td>\n",
       "      <td>ONE</td>\n",
       "      <td>ONE</td>\n",
       "      <td>ZERO</td>\n",
       "      <td>ONE</td>\n",
       "      <td>ONE</td>\n",
       "    </tr>\n",
       "    <tr>\n",
       "      <th>freq</th>\n",
       "      <td>58</td>\n",
       "      <td>375</td>\n",
       "      <td>299</td>\n",
       "      <td>363</td>\n",
       "      <td>363</td>\n",
       "      <td>290</td>\n",
       "      <td>416</td>\n",
       "      <td>334</td>\n",
       "    </tr>\n",
       "  </tbody>\n",
       "</table>\n",
       "</div>"
      ],
      "text/plain": [
       "        DIGIT   B2   C2   D2   E2    F2   G2   H2\n",
       "count     500  500  500  500  500   500  500  500\n",
       "unique     10    2    2    2    2     2    2    2\n",
       "top     eight  ONE  ONE  ONE  ONE  ZERO  ONE  ONE\n",
       "freq       58  375  299  363  363   290  416  334"
      ]
     },
     "execution_count": 7,
     "metadata": {},
     "output_type": "execute_result"
    }
   ],
   "source": [
    "digits_df.describe()"
   ]
  },
  {
   "cell_type": "markdown",
   "id": "a2346619",
   "metadata": {},
   "source": [
    "Как видно, датасет содержит 500 записей. Столбец `DIGIT` содержит 10 уникальных значений - классы цифр, которые мы будем предсказывать. Остальные столбцы содержат по 2 уникальных значения - `YES` и `NO`, что говорит нам о возможности категориального кодирования всего датасета для более удобной обработки классифицирующими моделями"
   ]
  },
  {
   "cell_type": "markdown",
   "id": "99199e25",
   "metadata": {},
   "source": [
    "Проверим датасет на наличие пропущенных значений"
   ]
  },
  {
   "cell_type": "code",
   "execution_count": 8,
   "id": "7003ce50",
   "metadata": {},
   "outputs": [
    {
     "data": {
      "text/html": [
       "<div>\n",
       "<style scoped>\n",
       "    .dataframe tbody tr th:only-of-type {\n",
       "        vertical-align: middle;\n",
       "    }\n",
       "\n",
       "    .dataframe tbody tr th {\n",
       "        vertical-align: top;\n",
       "    }\n",
       "\n",
       "    .dataframe thead th {\n",
       "        text-align: right;\n",
       "    }\n",
       "</style>\n",
       "<table border=\"1\" class=\"dataframe\">\n",
       "  <thead>\n",
       "    <tr style=\"text-align: right;\">\n",
       "      <th></th>\n",
       "      <th>Пропущено значений</th>\n",
       "    </tr>\n",
       "  </thead>\n",
       "  <tbody>\n",
       "    <tr>\n",
       "      <th>DIGIT</th>\n",
       "      <td>0</td>\n",
       "    </tr>\n",
       "    <tr>\n",
       "      <th>B2</th>\n",
       "      <td>0</td>\n",
       "    </tr>\n",
       "    <tr>\n",
       "      <th>C2</th>\n",
       "      <td>0</td>\n",
       "    </tr>\n",
       "    <tr>\n",
       "      <th>D2</th>\n",
       "      <td>0</td>\n",
       "    </tr>\n",
       "    <tr>\n",
       "      <th>E2</th>\n",
       "      <td>0</td>\n",
       "    </tr>\n",
       "    <tr>\n",
       "      <th>F2</th>\n",
       "      <td>0</td>\n",
       "    </tr>\n",
       "    <tr>\n",
       "      <th>G2</th>\n",
       "      <td>0</td>\n",
       "    </tr>\n",
       "    <tr>\n",
       "      <th>H2</th>\n",
       "      <td>0</td>\n",
       "    </tr>\n",
       "  </tbody>\n",
       "</table>\n",
       "</div>"
      ],
      "text/plain": [
       "       Пропущено значений\n",
       "DIGIT                   0\n",
       "B2                      0\n",
       "C2                      0\n",
       "D2                      0\n",
       "E2                      0\n",
       "F2                      0\n",
       "G2                      0\n",
       "H2                      0"
      ]
     },
     "execution_count": 8,
     "metadata": {},
     "output_type": "execute_result"
    }
   ],
   "source": [
    "digits_df.isna().sum().to_frame().rename(columns={0: \"Пропущено значений\"})"
   ]
  },
  {
   "cell_type": "markdown",
   "id": "120f23b1",
   "metadata": {},
   "source": [
    "Как видим, пропуски в датасете отсутствуют"
   ]
  },
  {
   "cell_type": "markdown",
   "id": "227cc6d2",
   "metadata": {},
   "source": [
    "Построим гистограмму классовых меток по датасету"
   ]
  },
  {
   "cell_type": "code",
   "execution_count": 9,
   "id": "93cae3dc",
   "metadata": {},
   "outputs": [
    {
     "data": {
      "image/png": "[encoded data removed]",
      "text/plain": [
       "<Figure size 640x480 with 1 Axes>"
      ]
     },
     "metadata": {},
     "output_type": "display_data"
    }
   ],
   "source": [
    "digits_df['DIGIT'].hist()\n",
    "plt.show()"
   ]
  },
  {
   "cell_type": "markdown",
   "id": "7f65e4cd",
   "metadata": {},
   "source": [
    "Из гистограммы видно, что метки достаточно сбалансированы, их распределение не является скошенным (отсутствуют явно выделенные миноритарные или мажоритарные классы), а значит при тренировке классификатора мы можем оптимизировать обычную точность `accuracy`. Однако при оценке качества модели также будем использовать макровзвешенную `F1-меру`  "
   ]
  },
  {
   "cell_type": "markdown",
   "id": "23acebb5",
   "metadata": {},
   "source": [
    "Заменим категориальные метки `ONE` и `ZERO` на числовые `1` и `0`"
   ]
  },
  {
   "cell_type": "code",
   "execution_count": 10,
   "id": "1466f197",
   "metadata": {},
   "outputs": [
    {
     "data": {
      "text/html": [
       "<div>\n",
       "<style scoped>\n",
       "    .dataframe tbody tr th:only-of-type {\n",
       "        vertical-align: middle;\n",
       "    }\n",
       "\n",
       "    .dataframe tbody tr th {\n",
       "        vertical-align: top;\n",
       "    }\n",
       "\n",
       "    .dataframe thead th {\n",
       "        text-align: right;\n",
       "    }\n",
       "</style>\n",
       "<table border=\"1\" class=\"dataframe\">\n",
       "  <thead>\n",
       "    <tr style=\"text-align: right;\">\n",
       "      <th></th>\n",
       "      <th>DIGIT</th>\n",
       "      <th>B2</th>\n",
       "      <th>C2</th>\n",
       "      <th>D2</th>\n",
       "      <th>E2</th>\n",
       "      <th>F2</th>\n",
       "      <th>G2</th>\n",
       "      <th>H2</th>\n",
       "    </tr>\n",
       "  </thead>\n",
       "  <tbody>\n",
       "    <tr>\n",
       "      <th>306</th>\n",
       "      <td>one</td>\n",
       "      <td>0</td>\n",
       "      <td>0</td>\n",
       "      <td>1</td>\n",
       "      <td>0</td>\n",
       "      <td>1</td>\n",
       "      <td>1</td>\n",
       "      <td>0</td>\n",
       "    </tr>\n",
       "    <tr>\n",
       "      <th>449</th>\n",
       "      <td>seven</td>\n",
       "      <td>1</td>\n",
       "      <td>0</td>\n",
       "      <td>1</td>\n",
       "      <td>0</td>\n",
       "      <td>0</td>\n",
       "      <td>1</td>\n",
       "      <td>1</td>\n",
       "    </tr>\n",
       "    <tr>\n",
       "      <th>123</th>\n",
       "      <td>four</td>\n",
       "      <td>0</td>\n",
       "      <td>1</td>\n",
       "      <td>1</td>\n",
       "      <td>1</td>\n",
       "      <td>0</td>\n",
       "      <td>1</td>\n",
       "      <td>1</td>\n",
       "    </tr>\n",
       "    <tr>\n",
       "      <th>194</th>\n",
       "      <td>three</td>\n",
       "      <td>1</td>\n",
       "      <td>0</td>\n",
       "      <td>0</td>\n",
       "      <td>1</td>\n",
       "      <td>0</td>\n",
       "      <td>0</td>\n",
       "      <td>1</td>\n",
       "    </tr>\n",
       "    <tr>\n",
       "      <th>66</th>\n",
       "      <td>three</td>\n",
       "      <td>1</td>\n",
       "      <td>1</td>\n",
       "      <td>0</td>\n",
       "      <td>0</td>\n",
       "      <td>0</td>\n",
       "      <td>1</td>\n",
       "      <td>1</td>\n",
       "    </tr>\n",
       "    <tr>\n",
       "      <th>394</th>\n",
       "      <td>eight</td>\n",
       "      <td>0</td>\n",
       "      <td>1</td>\n",
       "      <td>1</td>\n",
       "      <td>1</td>\n",
       "      <td>1</td>\n",
       "      <td>1</td>\n",
       "      <td>1</td>\n",
       "    </tr>\n",
       "    <tr>\n",
       "      <th>430</th>\n",
       "      <td>six</td>\n",
       "      <td>0</td>\n",
       "      <td>1</td>\n",
       "      <td>0</td>\n",
       "      <td>1</td>\n",
       "      <td>1</td>\n",
       "      <td>1</td>\n",
       "      <td>1</td>\n",
       "    </tr>\n",
       "    <tr>\n",
       "      <th>345</th>\n",
       "      <td>seven</td>\n",
       "      <td>0</td>\n",
       "      <td>0</td>\n",
       "      <td>1</td>\n",
       "      <td>0</td>\n",
       "      <td>0</td>\n",
       "      <td>1</td>\n",
       "      <td>0</td>\n",
       "    </tr>\n",
       "    <tr>\n",
       "      <th>498</th>\n",
       "      <td>zero</td>\n",
       "      <td>1</td>\n",
       "      <td>1</td>\n",
       "      <td>1</td>\n",
       "      <td>0</td>\n",
       "      <td>0</td>\n",
       "      <td>1</td>\n",
       "      <td>0</td>\n",
       "    </tr>\n",
       "    <tr>\n",
       "      <th>237</th>\n",
       "      <td>three</td>\n",
       "      <td>1</td>\n",
       "      <td>0</td>\n",
       "      <td>1</td>\n",
       "      <td>1</td>\n",
       "      <td>0</td>\n",
       "      <td>1</td>\n",
       "      <td>1</td>\n",
       "    </tr>\n",
       "  </tbody>\n",
       "</table>\n",
       "</div>"
      ],
      "text/plain": [
       "     DIGIT  B2  C2  D2  E2  F2  G2  H2\n",
       "306    one   0   0   1   0   1   1   0\n",
       "449  seven   1   0   1   0   0   1   1\n",
       "123   four   0   1   1   1   0   1   1\n",
       "194  three   1   0   0   1   0   0   1\n",
       "66   three   1   1   0   0   0   1   1\n",
       "394  eight   0   1   1   1   1   1   1\n",
       "430    six   0   1   0   1   1   1   1\n",
       "345  seven   0   0   1   0   0   1   0\n",
       "498   zero   1   1   1   0   0   1   0\n",
       "237  three   1   0   1   1   0   1   1"
      ]
     },
     "execution_count": 10,
     "metadata": {},
     "output_type": "execute_result"
    }
   ],
   "source": [
    "digits_df.replace({'ONE': 1, 'ZERO': 0}, inplace=True)\n",
    "digits_df.sample(10)"
   ]
  },
  {
   "cell_type": "markdown",
   "id": "a537fc09",
   "metadata": {},
   "source": [
    "Посмотрим на точный список классовых меток, чтобы провести их кодирование"
   ]
  },
  {
   "cell_type": "code",
   "execution_count": 11,
   "id": "78be8260",
   "metadata": {},
   "outputs": [
    {
     "data": {
      "text/plain": [
       "array(['seven', 'one', 'four', 'two', 'eight', 'five', 'six', 'zero',\n",
       "       'nine', 'three'], dtype=object)"
      ]
     },
     "execution_count": 11,
     "metadata": {},
     "output_type": "execute_result"
    }
   ],
   "source": [
    "digits_df['DIGIT'].unique()"
   ]
  },
  {
   "cell_type": "markdown",
   "id": "2ae4cc75",
   "metadata": {},
   "source": [
    "Метки представляют собой словесные названия цифр от 0 до 9 на английском. Заменим их на сами цифры"
   ]
  },
  {
   "cell_type": "code",
   "execution_count": 12,
   "id": "83ed12c4",
   "metadata": {},
   "outputs": [],
   "source": [
    "classes_labels_map = {\n",
    "    'zero': 0,\n",
    "    'one': 1,\n",
    "    'two': 2,\n",
    "    'three': 3,\n",
    "    'four': 4,\n",
    "    'five': 5,\n",
    "    'six': 6,\n",
    "    'seven': 7,\n",
    "    'eight': 8,\n",
    "    'nine': 9\n",
    "}"
   ]
  },
  {
   "cell_type": "code",
   "execution_count": 13,
   "id": "c4d7286a",
   "metadata": {},
   "outputs": [
    {
     "data": {
      "text/html": [
       "<div>\n",
       "<style scoped>\n",
       "    .dataframe tbody tr th:only-of-type {\n",
       "        vertical-align: middle;\n",
       "    }\n",
       "\n",
       "    .dataframe tbody tr th {\n",
       "        vertical-align: top;\n",
       "    }\n",
       "\n",
       "    .dataframe thead th {\n",
       "        text-align: right;\n",
       "    }\n",
       "</style>\n",
       "<table border=\"1\" class=\"dataframe\">\n",
       "  <thead>\n",
       "    <tr style=\"text-align: right;\">\n",
       "      <th></th>\n",
       "      <th>DIGIT</th>\n",
       "      <th>B2</th>\n",
       "      <th>C2</th>\n",
       "      <th>D2</th>\n",
       "      <th>E2</th>\n",
       "      <th>F2</th>\n",
       "      <th>G2</th>\n",
       "      <th>H2</th>\n",
       "    </tr>\n",
       "  </thead>\n",
       "  <tbody>\n",
       "    <tr>\n",
       "      <th>115</th>\n",
       "      <td>2</td>\n",
       "      <td>1</td>\n",
       "      <td>0</td>\n",
       "      <td>1</td>\n",
       "      <td>1</td>\n",
       "      <td>1</td>\n",
       "      <td>0</td>\n",
       "      <td>1</td>\n",
       "    </tr>\n",
       "    <tr>\n",
       "      <th>267</th>\n",
       "      <td>5</td>\n",
       "      <td>0</td>\n",
       "      <td>1</td>\n",
       "      <td>0</td>\n",
       "      <td>1</td>\n",
       "      <td>0</td>\n",
       "      <td>1</td>\n",
       "      <td>1</td>\n",
       "    </tr>\n",
       "    <tr>\n",
       "      <th>27</th>\n",
       "      <td>3</td>\n",
       "      <td>1</td>\n",
       "      <td>0</td>\n",
       "      <td>0</td>\n",
       "      <td>1</td>\n",
       "      <td>0</td>\n",
       "      <td>1</td>\n",
       "      <td>1</td>\n",
       "    </tr>\n",
       "    <tr>\n",
       "      <th>421</th>\n",
       "      <td>3</td>\n",
       "      <td>1</td>\n",
       "      <td>0</td>\n",
       "      <td>0</td>\n",
       "      <td>1</td>\n",
       "      <td>0</td>\n",
       "      <td>1</td>\n",
       "      <td>1</td>\n",
       "    </tr>\n",
       "    <tr>\n",
       "      <th>471</th>\n",
       "      <td>2</td>\n",
       "      <td>1</td>\n",
       "      <td>0</td>\n",
       "      <td>1</td>\n",
       "      <td>1</td>\n",
       "      <td>1</td>\n",
       "      <td>0</td>\n",
       "      <td>1</td>\n",
       "    </tr>\n",
       "    <tr>\n",
       "      <th>257</th>\n",
       "      <td>0</td>\n",
       "      <td>1</td>\n",
       "      <td>1</td>\n",
       "      <td>1</td>\n",
       "      <td>0</td>\n",
       "      <td>1</td>\n",
       "      <td>0</td>\n",
       "      <td>1</td>\n",
       "    </tr>\n",
       "    <tr>\n",
       "      <th>469</th>\n",
       "      <td>9</td>\n",
       "      <td>1</td>\n",
       "      <td>1</td>\n",
       "      <td>1</td>\n",
       "      <td>1</td>\n",
       "      <td>0</td>\n",
       "      <td>1</td>\n",
       "      <td>1</td>\n",
       "    </tr>\n",
       "    <tr>\n",
       "      <th>459</th>\n",
       "      <td>8</td>\n",
       "      <td>1</td>\n",
       "      <td>1</td>\n",
       "      <td>1</td>\n",
       "      <td>1</td>\n",
       "      <td>1</td>\n",
       "      <td>1</td>\n",
       "      <td>1</td>\n",
       "    </tr>\n",
       "    <tr>\n",
       "      <th>455</th>\n",
       "      <td>3</td>\n",
       "      <td>1</td>\n",
       "      <td>0</td>\n",
       "      <td>1</td>\n",
       "      <td>1</td>\n",
       "      <td>0</td>\n",
       "      <td>1</td>\n",
       "      <td>1</td>\n",
       "    </tr>\n",
       "    <tr>\n",
       "      <th>435</th>\n",
       "      <td>5</td>\n",
       "      <td>1</td>\n",
       "      <td>1</td>\n",
       "      <td>0</td>\n",
       "      <td>1</td>\n",
       "      <td>0</td>\n",
       "      <td>1</td>\n",
       "      <td>1</td>\n",
       "    </tr>\n",
       "  </tbody>\n",
       "</table>\n",
       "</div>"
      ],
      "text/plain": [
       "     DIGIT  B2  C2  D2  E2  F2  G2  H2\n",
       "115      2   1   0   1   1   1   0   1\n",
       "267      5   0   1   0   1   0   1   1\n",
       "27       3   1   0   0   1   0   1   1\n",
       "421      3   1   0   0   1   0   1   1\n",
       "471      2   1   0   1   1   1   0   1\n",
       "257      0   1   1   1   0   1   0   1\n",
       "469      9   1   1   1   1   0   1   1\n",
       "459      8   1   1   1   1   1   1   1\n",
       "455      3   1   0   1   1   0   1   1\n",
       "435      5   1   1   0   1   0   1   1"
      ]
     },
     "execution_count": 13,
     "metadata": {},
     "output_type": "execute_result"
    }
   ],
   "source": [
    "digits_df['DIGIT'] = digits_df['DIGIT'].apply(lambda x: classes_labels_map[x])\n",
    "digits_df.sample(10)"
   ]
  },
  {
   "cell_type": "markdown",
   "id": "001e3ff5",
   "metadata": {},
   "source": [
    "Подсчитаем встречаемость каждой цифры"
   ]
  },
  {
   "cell_type": "code",
   "execution_count": 14,
   "id": "eb5fab34",
   "metadata": {},
   "outputs": [
    {
     "data": {
      "text/html": [
       "<div>\n",
       "<style scoped>\n",
       "    .dataframe tbody tr th:only-of-type {\n",
       "        vertical-align: middle;\n",
       "    }\n",
       "\n",
       "    .dataframe tbody tr th {\n",
       "        vertical-align: top;\n",
       "    }\n",
       "\n",
       "    .dataframe thead th {\n",
       "        text-align: right;\n",
       "    }\n",
       "</style>\n",
       "<table border=\"1\" class=\"dataframe\">\n",
       "  <thead>\n",
       "    <tr style=\"text-align: right;\">\n",
       "      <th></th>\n",
       "      <th>count</th>\n",
       "    </tr>\n",
       "    <tr>\n",
       "      <th>DIGIT</th>\n",
       "      <th></th>\n",
       "    </tr>\n",
       "  </thead>\n",
       "  <tbody>\n",
       "    <tr>\n",
       "      <th>8</th>\n",
       "      <td>58</td>\n",
       "    </tr>\n",
       "    <tr>\n",
       "      <th>9</th>\n",
       "      <td>55</td>\n",
       "    </tr>\n",
       "    <tr>\n",
       "      <th>3</th>\n",
       "      <td>55</td>\n",
       "    </tr>\n",
       "    <tr>\n",
       "      <th>5</th>\n",
       "      <td>54</td>\n",
       "    </tr>\n",
       "    <tr>\n",
       "      <th>4</th>\n",
       "      <td>52</td>\n",
       "    </tr>\n",
       "    <tr>\n",
       "      <th>6</th>\n",
       "      <td>50</td>\n",
       "    </tr>\n",
       "    <tr>\n",
       "      <th>7</th>\n",
       "      <td>48</td>\n",
       "    </tr>\n",
       "    <tr>\n",
       "      <th>1</th>\n",
       "      <td>43</td>\n",
       "    </tr>\n",
       "    <tr>\n",
       "      <th>2</th>\n",
       "      <td>43</td>\n",
       "    </tr>\n",
       "    <tr>\n",
       "      <th>0</th>\n",
       "      <td>42</td>\n",
       "    </tr>\n",
       "  </tbody>\n",
       "</table>\n",
       "</div>"
      ],
      "text/plain": [
       "       count\n",
       "DIGIT       \n",
       "8         58\n",
       "9         55\n",
       "3         55\n",
       "5         54\n",
       "4         52\n",
       "6         50\n",
       "7         48\n",
       "1         43\n",
       "2         43\n",
       "0         42"
      ]
     },
     "execution_count": 14,
     "metadata": {},
     "output_type": "execute_result"
    }
   ],
   "source": [
    "digits_counts = digits_df.DIGIT.value_counts().to_frame()\n",
    "digits_counts"
   ]
  },
  {
   "cell_type": "markdown",
   "id": "bc42a190",
   "metadata": {},
   "source": [
    "Как и было показано на гистограмме - классы имеют достаточно равномерное распределение, разница между количеством появлений самого миноритарного и мажоритарного классов составляет `16` экземпляров, что составляет `3.2%` от размера датасета, поэтому при обучении классификатора будем оптимизировать `accuracy`"
   ]
  },
  {
   "cell_type": "markdown",
   "id": "3682b202",
   "metadata": {},
   "source": [
    "## Подготовка данных к обучению классификатора"
   ]
  },
  {
   "cell_type": "markdown",
   "id": "b5b5be8f",
   "metadata": {},
   "source": [
    "Выделим независимые переменные и целевую"
   ]
  },
  {
   "cell_type": "code",
   "execution_count": 15,
   "id": "5fa97363",
   "metadata": {},
   "outputs": [],
   "source": [
    "X = digits_df.drop('DIGIT', axis=1)\n",
    "y = digits_df.DIGIT"
   ]
  },
  {
   "cell_type": "markdown",
   "id": "99658599",
   "metadata": {},
   "source": [
    "Визуализируем датасет в двумерном пространстве с помощью многомерного шкалирования, чтобы оценить границы выбора значения `k` классификатора"
   ]
  },
  {
   "cell_type": "code",
   "execution_count": 16,
   "id": "b6d44ae6",
   "metadata": {},
   "outputs": [
    {
     "data": {
      "text/html": [
       "<div>\n",
       "<style scoped>\n",
       "    .dataframe tbody tr th:only-of-type {\n",
       "        vertical-align: middle;\n",
       "    }\n",
       "\n",
       "    .dataframe tbody tr th {\n",
       "        vertical-align: top;\n",
       "    }\n",
       "\n",
       "    .dataframe thead th {\n",
       "        text-align: right;\n",
       "    }\n",
       "</style>\n",
       "<table border=\"1\" class=\"dataframe\">\n",
       "  <thead>\n",
       "    <tr style=\"text-align: right;\">\n",
       "      <th></th>\n",
       "      <th>DIGIT</th>\n",
       "      <th>B2</th>\n",
       "      <th>C2</th>\n",
       "      <th>D2</th>\n",
       "      <th>E2</th>\n",
       "      <th>F2</th>\n",
       "      <th>G2</th>\n",
       "      <th>H2</th>\n",
       "      <th>MDS1</th>\n",
       "      <th>MDS2</th>\n",
       "    </tr>\n",
       "  </thead>\n",
       "  <tbody>\n",
       "    <tr>\n",
       "      <th>212</th>\n",
       "      <td>3</td>\n",
       "      <td>1</td>\n",
       "      <td>0</td>\n",
       "      <td>1</td>\n",
       "      <td>1</td>\n",
       "      <td>0</td>\n",
       "      <td>1</td>\n",
       "      <td>1</td>\n",
       "      <td>-0.383578</td>\n",
       "      <td>-0.129534</td>\n",
       "    </tr>\n",
       "    <tr>\n",
       "      <th>324</th>\n",
       "      <td>8</td>\n",
       "      <td>1</td>\n",
       "      <td>1</td>\n",
       "      <td>1</td>\n",
       "      <td>1</td>\n",
       "      <td>1</td>\n",
       "      <td>1</td>\n",
       "      <td>0</td>\n",
       "      <td>0.038516</td>\n",
       "      <td>-0.118058</td>\n",
       "    </tr>\n",
       "    <tr>\n",
       "      <th>298</th>\n",
       "      <td>9</td>\n",
       "      <td>1</td>\n",
       "      <td>1</td>\n",
       "      <td>1</td>\n",
       "      <td>1</td>\n",
       "      <td>0</td>\n",
       "      <td>1</td>\n",
       "      <td>1</td>\n",
       "      <td>0.401549</td>\n",
       "      <td>-0.078584</td>\n",
       "    </tr>\n",
       "    <tr>\n",
       "      <th>82</th>\n",
       "      <td>5</td>\n",
       "      <td>1</td>\n",
       "      <td>1</td>\n",
       "      <td>0</td>\n",
       "      <td>1</td>\n",
       "      <td>0</td>\n",
       "      <td>1</td>\n",
       "      <td>1</td>\n",
       "      <td>1.084167</td>\n",
       "      <td>0.081936</td>\n",
       "    </tr>\n",
       "    <tr>\n",
       "      <th>442</th>\n",
       "      <td>3</td>\n",
       "      <td>1</td>\n",
       "      <td>0</td>\n",
       "      <td>1</td>\n",
       "      <td>0</td>\n",
       "      <td>0</td>\n",
       "      <td>1</td>\n",
       "      <td>1</td>\n",
       "      <td>-0.901569</td>\n",
       "      <td>-0.266438</td>\n",
       "    </tr>\n",
       "    <tr>\n",
       "      <th>314</th>\n",
       "      <td>8</td>\n",
       "      <td>1</td>\n",
       "      <td>1</td>\n",
       "      <td>1</td>\n",
       "      <td>1</td>\n",
       "      <td>0</td>\n",
       "      <td>0</td>\n",
       "      <td>1</td>\n",
       "      <td>-0.230370</td>\n",
       "      <td>0.409457</td>\n",
       "    </tr>\n",
       "    <tr>\n",
       "      <th>421</th>\n",
       "      <td>3</td>\n",
       "      <td>1</td>\n",
       "      <td>0</td>\n",
       "      <td>0</td>\n",
       "      <td>1</td>\n",
       "      <td>0</td>\n",
       "      <td>1</td>\n",
       "      <td>1</td>\n",
       "      <td>1.006040</td>\n",
       "      <td>-0.289239</td>\n",
       "    </tr>\n",
       "    <tr>\n",
       "      <th>181</th>\n",
       "      <td>3</td>\n",
       "      <td>1</td>\n",
       "      <td>0</td>\n",
       "      <td>1</td>\n",
       "      <td>1</td>\n",
       "      <td>0</td>\n",
       "      <td>1</td>\n",
       "      <td>1</td>\n",
       "      <td>-0.383578</td>\n",
       "      <td>-0.129534</td>\n",
       "    </tr>\n",
       "    <tr>\n",
       "      <th>400</th>\n",
       "      <td>9</td>\n",
       "      <td>1</td>\n",
       "      <td>1</td>\n",
       "      <td>1</td>\n",
       "      <td>1</td>\n",
       "      <td>0</td>\n",
       "      <td>1</td>\n",
       "      <td>1</td>\n",
       "      <td>0.401549</td>\n",
       "      <td>-0.078584</td>\n",
       "    </tr>\n",
       "    <tr>\n",
       "      <th>42</th>\n",
       "      <td>8</td>\n",
       "      <td>1</td>\n",
       "      <td>1</td>\n",
       "      <td>1</td>\n",
       "      <td>1</td>\n",
       "      <td>1</td>\n",
       "      <td>1</td>\n",
       "      <td>0</td>\n",
       "      <td>0.038516</td>\n",
       "      <td>-0.118058</td>\n",
       "    </tr>\n",
       "  </tbody>\n",
       "</table>\n",
       "</div>"
      ],
      "text/plain": [
       "     DIGIT  B2  C2  D2  E2  F2  G2  H2      MDS1      MDS2\n",
       "212      3   1   0   1   1   0   1   1 -0.383578 -0.129534\n",
       "324      8   1   1   1   1   1   1   0  0.038516 -0.118058\n",
       "298      9   1   1   1   1   0   1   1  0.401549 -0.078584\n",
       "82       5   1   1   0   1   0   1   1  1.084167  0.081936\n",
       "442      3   1   0   1   0   0   1   1 -0.901569 -0.266438\n",
       "314      8   1   1   1   1   0   0   1 -0.230370  0.409457\n",
       "421      3   1   0   0   1   0   1   1  1.006040 -0.289239\n",
       "181      3   1   0   1   1   0   1   1 -0.383578 -0.129534\n",
       "400      9   1   1   1   1   0   1   1  0.401549 -0.078584\n",
       "42       8   1   1   1   1   1   1   0  0.038516 -0.118058"
      ]
     },
     "execution_count": 16,
     "metadata": {},
     "output_type": "execute_result"
    }
   ],
   "source": [
    "mds = MDS(n_components=2, random_state=42, normalized_stress='auto')\n",
    "mds_transformed = mds.fit_transform(X)\n",
    "mds_df = pd.DataFrame(mds_transformed, columns=[f'MDS{i + 1}' for i in range(2)])\n",
    "mds_df = pd.concat([digits_df, mds_df], axis=1)\n",
    "mds_df.sample(10)"
   ]
  },
  {
   "cell_type": "code",
   "execution_count": 17,
   "id": "25d3824f",
   "metadata": {},
   "outputs": [
    {
     "data": {
      "image/png": "[encoded data removed]",
      "text/plain": [
       "<Figure size 1000x600 with 1 Axes>"
      ]
     },
     "metadata": {},
     "output_type": "display_data"
    }
   ],
   "source": [
    "plt.figure(figsize=(10, 6))\n",
    "sns.scatterplot(\n",
    "    data=mds_df,\n",
    "    x='MDS1',\n",
    "    y='MDS2',\n",
    "    hue='DIGIT',\n",
    "    palette='Set2'\n",
    ")\n",
    "plt.title('MDS')\n",
    "plt.xlabel('MDS1')\n",
    "plt.ylabel('MDS2')\n",
    "plt.yticks([])\n",
    "plt.xticks(rotation=45)\n",
    "plt.legend(title='DIGIT', bbox_to_anchor=(1.05, 1), loc='upper left')\n",
    "plt.tight_layout()\n",
    "plt.show()"
   ]
  },
  {
   "cell_type": "markdown",
   "id": "0ff4a4ce",
   "metadata": {},
   "source": [
    "Как видно, точки разных классов в большинстве своем перемешаны между собой, заметны лишь ленточный кластер нулей и небольшой кластер пятерок. Это может говорить о том, что для качественной классификации нам понадобится достаточно большое значение `k`"
   ]
  },
  {
   "cell_type": "markdown",
   "id": "38bfc5fc",
   "metadata": {},
   "source": [
    "Разделим датасет на обучающую и тестовую выборки в соотношении 80/20"
   ]
  },
  {
   "cell_type": "code",
   "execution_count": 18,
   "id": "a1b81fe5",
   "metadata": {},
   "outputs": [],
   "source": [
    "X_train, X_test, y_train, y_test = train_test_split(X.values, y, test_size=0.2, shuffle=True)"
   ]
  },
  {
   "cell_type": "markdown",
   "id": "55d3d328",
   "metadata": {},
   "source": [
    "## Инициализация и обучение kNN классификатора"
   ]
  },
  {
   "cell_type": "markdown",
   "id": "57f62e79",
   "metadata": {},
   "source": [
    "Создадим экземпляр kNN классификатора с добавленным адаптером, улучшающим качество предсказания вероятностей (может быть полезно для дальнейшего threshold-engineering)"
   ]
  },
  {
   "cell_type": "code",
   "execution_count": 19,
   "id": "9ac8a013",
   "metadata": {},
   "outputs": [],
   "source": [
    "clf = CalibratedClassifierCV(estimator=KNeighborsClassifier()) "
   ]
  },
  {
   "cell_type": "markdown",
   "id": "433ba0e0",
   "metadata": {},
   "source": [
    "Для подбора наилучшей комбинации параметров классификатора будем использовать поиск по сетке. В качестве оптимизируемых параметров возьмем `n_neighbors` (значение k), `leaf_size` (управление размером классифицирующего дерева при использовании соответствующего алгоритма), `metric` (метрика, которая будет описывать расстояние между объектами) и `weights` - параметр, определяющий будут ли все точки в пространстве иметь одинаковую важность при предсказании класса для нового объекта"
   ]
  },
  {
   "cell_type": "code",
   "execution_count": 20,
   "id": "df19a6cc",
   "metadata": {},
   "outputs": [],
   "source": [
    "parameters = {\n",
    "    'estimator__n_neighbors': range(1, 50),\n",
    "    'estimator__leaf_size': range(10, 40, 5),\n",
    "    'estimator__metric': ['euclidean', 'manhattan', 'hamming', 'cosine', 'minkowski'],\n",
    "    'estimator__weights': ['distance', 'uniform']\n",
    "}"
   ]
  },
  {
   "cell_type": "markdown",
   "id": "793f1659",
   "metadata": {},
   "source": [
    "При поиске по сетке будем оптимизировать `accuracy` с использованием кросс-валидации с параметром `n` равным 15, что позволит пройтись по датасету большее количество раз. Использование `StratifiedKFold` кросс-валидации поможет сгладить влияние неравномерно распределенных классов (в нашем случае они явно не выделяются, поэтому результат работы будет близок к простой кросс-валидации)"
   ]
  },
  {
   "cell_type": "code",
   "execution_count": 21,
   "id": "f2650be3",
   "metadata": {},
   "outputs": [
    {
     "data": {
      "text/plain": [
       "{'cv': StratifiedKFold(n_splits=15, random_state=None, shuffle=False),\n",
       " 'error_score': nan,\n",
       " 'estimator__base_estimator': 'deprecated',\n",
       " 'estimator__cv': None,\n",
       " 'estimator__ensemble': True,\n",
       " 'estimator__estimator__algorithm': 'auto',\n",
       " 'estimator__estimator__leaf_size': 30,\n",
       " 'estimator__estimator__metric': 'minkowski',\n",
       " 'estimator__estimator__metric_params': None,\n",
       " 'estimator__estimator__n_jobs': None,\n",
       " 'estimator__estimator__n_neighbors': 5,\n",
       " 'estimator__estimator__p': 2,\n",
       " 'estimator__estimator__weights': 'uniform',\n",
       " 'estimator__estimator': KNeighborsClassifier(),\n",
       " 'estimator__method': 'sigmoid',\n",
       " 'estimator__n_jobs': None,\n",
       " 'estimator': CalibratedClassifierCV(estimator=KNeighborsClassifier()),\n",
       " 'n_jobs': -1,\n",
       " 'param_grid': {'estimator__n_neighbors': range(1, 50),\n",
       "  'estimator__leaf_size': range(10, 40, 5),\n",
       "  'estimator__metric': ['euclidean',\n",
       "   'manhattan',\n",
       "   'hamming',\n",
       "   'cosine',\n",
       "   'minkowski'],\n",
       "  'estimator__weights': ['distance', 'uniform']},\n",
       " 'pre_dispatch': '2*n_jobs',\n",
       " 'refit': True,\n",
       " 'return_train_score': False,\n",
       " 'scoring': 'accuracy',\n",
       " 'verbose': 5}"
      ]
     },
     "execution_count": 21,
     "metadata": {},
     "output_type": "execute_result"
    }
   ],
   "source": [
    "searcher = GridSearchCV(clf, parameters, n_jobs=-1, scoring='accuracy', verbose=5, cv=StratifiedKFold(n_splits=15))\n",
    "searcher.get_params()"
   ]
  },
  {
   "cell_type": "markdown",
   "id": "07af7b71",
   "metadata": {},
   "source": [
    "Запустим процесс поиска лучшей комбинации параметров"
   ]
  },
  {
   "cell_type": "code",
   "execution_count": 22,
   "id": "ed1daeab",
   "metadata": {},
   "outputs": [
    {
     "name": "stdout",
     "output_type": "stream",
     "text": [
      "Fitting 15 folds for each of 2940 candidates, totalling 44100 fits\n",
      "CPU times: total: 1min 28s\n",
      "Wall time: 20min 23s\n"
     ]
    },
    {
     "data": {
      "text/plain": [
       "{'estimator__leaf_size': 10,\n",
       " 'estimator__metric': 'euclidean',\n",
       " 'estimator__n_neighbors': 46,\n",
       " 'estimator__weights': 'uniform'}"
      ]
     },
     "execution_count": 22,
     "metadata": {},
     "output_type": "execute_result"
    }
   ],
   "source": [
    "%%time\n",
    "searcher.fit(X_train, y_train)\n",
    "searcher.best_params_"
   ]
  },
  {
   "cell_type": "code",
   "execution_count": 23,
   "id": "470508db",
   "metadata": {},
   "outputs": [
    {
     "data": {
      "text/plain": [
       "0.7676163342830011"
      ]
     },
     "execution_count": 23,
     "metadata": {},
     "output_type": "execute_result"
    }
   ],
   "source": [
    "searcher.best_score_"
   ]
  },
  {
   "cell_type": "markdown",
   "id": "ba9b1fd0",
   "metadata": {},
   "source": [
    "Лучший классификатор выдал точность на обучающей выборке ~77%, интересно заметить, что гипотеза о большом коэффициенте `k` подтвердилась - лучший результат выдал классификатор с k = 46. В качестве метрики расстояния используется евклидово расстояние, все точки пространства имеют одинаковый вес"
   ]
  },
  {
   "cell_type": "markdown",
   "id": "f9b33285",
   "metadata": {},
   "source": [
    "Сохраним лучший классификатор"
   ]
  },
  {
   "cell_type": "code",
   "execution_count": 24,
   "id": "2d538906",
   "metadata": {},
   "outputs": [
    {
     "data": {
      "text/plain": [
       "{'base_estimator': 'deprecated',\n",
       " 'cv': None,\n",
       " 'ensemble': True,\n",
       " 'estimator__algorithm': 'auto',\n",
       " 'estimator__leaf_size': 10,\n",
       " 'estimator__metric': 'euclidean',\n",
       " 'estimator__metric_params': None,\n",
       " 'estimator__n_jobs': None,\n",
       " 'estimator__n_neighbors': 46,\n",
       " 'estimator__p': 2,\n",
       " 'estimator__weights': 'uniform',\n",
       " 'estimator': KNeighborsClassifier(leaf_size=10, metric='euclidean', n_neighbors=46),\n",
       " 'method': 'sigmoid',\n",
       " 'n_jobs': None}"
      ]
     },
     "execution_count": 24,
     "metadata": {},
     "output_type": "execute_result"
    }
   ],
   "source": [
    "best_clf = searcher.best_estimator_\n",
    "best_clf.get_params()"
   ]
  },
  {
   "cell_type": "markdown",
   "id": "8a633189",
   "metadata": {},
   "source": [
    "## Оценка качества работы классификатора"
   ]
  },
  {
   "cell_type": "markdown",
   "id": "00602ba5",
   "metadata": {},
   "source": [
    "Детальнее рассмотрим поведение классификатора на обучающей выборке"
   ]
  },
  {
   "cell_type": "code",
   "execution_count": 25,
   "id": "c7ca3352",
   "metadata": {},
   "outputs": [
    {
     "data": {
      "text/plain": [
       "array([0, 4, 1, 5, 4, 0, 9, 7, 5, 1, 4, 7, 7, 9, 8, 6, 2, 8, 7, 4, 4, 9,\n",
       "       4, 2, 8, 4, 2, 2, 3, 9, 9, 8, 3, 5, 1, 5, 2, 4, 3, 9, 9, 0, 0, 3,\n",
       "       1, 9, 0, 4, 8, 3, 9, 2, 2, 6, 6, 9, 8, 8, 8, 4, 2, 2, 0, 7, 9, 3,\n",
       "       4, 6, 9, 5, 5, 5, 3, 3, 0, 7, 7, 2, 4, 7, 8, 2, 5, 7, 3, 5, 3, 0,\n",
       "       4, 5, 6, 5, 3, 2, 8, 7, 5, 0, 7, 6, 6, 3, 5, 4, 2, 5, 5, 4, 1, 0,\n",
       "       4, 7, 3, 1, 1, 1, 0, 9, 2, 0, 3, 7, 4, 6, 5, 7, 3, 9, 6, 9, 0, 8,\n",
       "       9, 9, 2, 8, 6, 3, 2, 4, 5, 3, 0, 4, 1, 0, 3, 2, 9, 9, 0, 4, 8, 9,\n",
       "       3, 5, 6, 8, 2, 2, 4, 1, 3, 3, 0, 9, 7, 6, 8, 9, 8, 2, 0, 0, 6, 3,\n",
       "       6, 6, 3, 5, 5, 1, 2, 3, 6, 3, 3, 8, 5, 4, 2, 3, 3, 6, 7, 8, 5, 5,\n",
       "       9, 6, 5, 4, 9, 0, 5, 4, 9, 8, 4, 7, 0, 3, 4, 6, 8, 4, 7, 5, 5, 2,\n",
       "       8, 9, 4, 1, 1, 5, 7, 5, 5, 8, 8, 6, 4, 8, 9, 8, 6, 3, 3, 1, 0, 1,\n",
       "       4, 6, 7, 4, 1, 6, 4, 9, 3, 2, 0, 2, 6, 3, 9, 6, 4, 6, 6, 3, 6, 4,\n",
       "       1, 5, 2, 0, 9, 4, 6, 3, 3, 4, 3, 3, 0, 1, 8, 1, 6, 2, 8, 1, 6, 1,\n",
       "       1, 9, 7, 6, 2, 4, 8, 6, 1, 6, 1, 3, 4, 6, 0, 0, 1, 1, 4, 9, 3, 6,\n",
       "       6, 5, 9, 5, 4, 0, 9, 4, 6, 3, 4, 0, 6, 9, 8, 1, 5, 9, 2, 8, 0, 6,\n",
       "       6, 8, 6, 1, 4, 5, 5, 3, 6, 7, 6, 4, 2, 6, 0, 5, 2, 9, 6, 7, 8, 9,\n",
       "       2, 3, 6, 8, 0, 4, 7, 4, 6, 4, 4, 4, 9, 3, 2, 7, 8, 5, 8, 6, 1, 1,\n",
       "       2, 2, 4, 8, 1, 6, 3, 5, 0, 2, 9, 8, 0, 3, 9, 6, 9, 1, 8, 3, 8, 7,\n",
       "       3, 2, 3, 3], dtype=int64)"
      ]
     },
     "execution_count": 25,
     "metadata": {},
     "output_type": "execute_result"
    }
   ],
   "source": [
    "train_pred = best_clf.predict(X_train)\n",
    "train_pred"
   ]
  },
  {
   "cell_type": "code",
   "execution_count": 26,
   "id": "ffc9da00",
   "metadata": {},
   "outputs": [
    {
     "name": "stdout",
     "output_type": "stream",
     "text": [
      "Точность на обучающей выборке составила: 0.7625\n"
     ]
    }
   ],
   "source": [
    "train_accuracy = accuracy_score(y_train, train_pred)\n",
    "print(f\"Точность на обучающей выборке составила: {train_accuracy}\")"
   ]
  },
  {
   "cell_type": "code",
   "execution_count": 27,
   "id": "26551fa2",
   "metadata": {},
   "outputs": [
    {
     "name": "stdout",
     "output_type": "stream",
     "text": [
      "Макровзвешенная F1-мера на обучающей выборке составила: 0.765027683453182\n"
     ]
    }
   ],
   "source": [
    "train_f1 = f1_score(y_train, train_pred, average='macro')\n",
    "print(f\"Макровзвешенная F1-мера на обучающей выборке составила: {train_f1}\")"
   ]
  },
  {
   "cell_type": "markdown",
   "id": "6083b22a",
   "metadata": {},
   "source": [
    "На обучающей выборке модель показала качество примерно в 77%, что достаточно хороший результат для такого простого классификатора, как kNN"
   ]
  },
  {
   "cell_type": "markdown",
   "id": "637c35e8",
   "metadata": {},
   "source": [
    "Построим на матрицу ошибок модели на обучающей выборке"
   ]
  },
  {
   "cell_type": "code",
   "execution_count": 28,
   "id": "23e86159",
   "metadata": {},
   "outputs": [
    {
     "data": {
      "image/png": "[encoded data removed]",
      "text/plain": [
       "<Figure size 800x600 with 2 Axes>"
      ]
     },
     "metadata": {},
     "output_type": "display_data"
    }
   ],
   "source": [
    "cm = confusion_matrix(y_train, train_pred)\n",
    "\n",
    "plt.figure(figsize=(8, 6))\n",
    "sns.heatmap(cm, annot=True, fmt='d', cmap='magma', cbar=True)\n",
    "plt.xlabel('Predicted')\n",
    "plt.ylabel('Actual')\n",
    "plt.title('Confusion Matrix')\n",
    "plt.show()"
   ]
  },
  {
   "cell_type": "markdown",
   "id": "4e2bcdb2",
   "metadata": {},
   "source": [
    "Как видно, чаще всего модель путает цифры 9 и 3 (согласно логике датасета они должны отличаться одним значением), 9 и 4 (аналогично), 7 и 3 (здесь разница между цифрами должна быть сильнее), но глобально качество работы на обучающей выборке достаточно хорошее"
   ]
  },
  {
   "cell_type": "markdown",
   "id": "54f088eb",
   "metadata": {},
   "source": [
    "Проверим модель на тестовой выборке"
   ]
  },
  {
   "cell_type": "code",
   "execution_count": 29,
   "id": "c36f6183",
   "metadata": {},
   "outputs": [
    {
     "data": {
      "text/plain": [
       "array([9, 1, 6, 5, 4, 4, 3, 8, 5, 7, 4, 3, 3, 7, 6, 2, 3, 7, 0, 3, 7, 5,\n",
       "       6, 2, 0, 4, 4, 5, 1, 9, 4, 3, 7, 7, 7, 2, 0, 1, 3, 4, 2, 4, 0, 5,\n",
       "       2, 7, 5, 3, 9, 8, 3, 9, 2, 7, 7, 3, 3, 4, 8, 7, 4, 4, 3, 2, 6, 3,\n",
       "       3, 4, 5, 6, 8, 6, 4, 7, 2, 9, 3, 0, 4, 0, 3, 5, 7, 1, 2, 0, 3, 1,\n",
       "       8, 4, 8, 1, 4, 3, 4, 5, 5, 8, 7, 2], dtype=int64)"
      ]
     },
     "execution_count": 29,
     "metadata": {},
     "output_type": "execute_result"
    }
   ],
   "source": [
    "pred = best_clf.predict(X_test)\n",
    "pred"
   ]
  },
  {
   "cell_type": "code",
   "execution_count": 30,
   "id": "b4197ca5",
   "metadata": {},
   "outputs": [
    {
     "name": "stdout",
     "output_type": "stream",
     "text": [
      "Точность на тестовой выборке составила: 0.82\n"
     ]
    }
   ],
   "source": [
    "test_accuracy = accuracy_score(y_test, pred)\n",
    "print(f\"Точность на тестовой выборке составила: {test_accuracy}\")"
   ]
  },
  {
   "cell_type": "code",
   "execution_count": 31,
   "id": "6fbd4236",
   "metadata": {},
   "outputs": [
    {
     "name": "stdout",
     "output_type": "stream",
     "text": [
      "Макровзвешенная F1-мера на тестовой выборке составила: 0.8219889519083067\n"
     ]
    }
   ],
   "source": [
    "test_f1 = f1_score(y_test, pred, average='macro')\n",
    "print(f\"Макровзвешенная F1-мера на тестовой выборке составила: {test_f1}\")"
   ]
  },
  {
   "cell_type": "markdown",
   "id": "1a902d88",
   "metadata": {},
   "source": [
    "На тестовой выборке модель показала качество примерно в 82%, что хороший результат для kNN. Прирост в качестве относительно обучающей выборки может говорит о низкой переобучаемости kNN или удачно выбранной тестовой выборке "
   ]
  },
  {
   "cell_type": "markdown",
   "id": "1f404098",
   "metadata": {},
   "source": [
    "Построим на матрицу ошибок модели на тестовой выборке"
   ]
  },
  {
   "cell_type": "code",
   "execution_count": 32,
   "id": "865e862a",
   "metadata": {},
   "outputs": [
    {
     "data": {
      "image/png": "[encoded data removed]",
      "text/plain": [
       "<Figure size 800x600 with 2 Axes>"
      ]
     },
     "metadata": {},
     "output_type": "display_data"
    }
   ],
   "source": [
    "cm = confusion_matrix(y_test, pred)\n",
    "\n",
    "plt.figure(figsize=(8, 6))\n",
    "sns.heatmap(cm, annot=True, fmt='d', cmap='magma', cbar=True)\n",
    "plt.xlabel('Predicted')\n",
    "plt.ylabel('Actual')\n",
    "plt.title('Confusion Matrix')\n",
    "plt.show()"
   ]
  },
  {
   "cell_type": "markdown",
   "id": "cfd6f89b",
   "metadata": {},
   "source": [
    "Можно заметить, что труднее всего предсказывается цифра 9 (что было характерно и для обучающей выборки), в остальных случаях количество ошибок низкое, что может быть следствием достаточно высокого качества обученного классификатора и небольшого размера датасета и тестовой выборки соответственно"
   ]
  }
 ],
 "metadata": {
  "kernelspec": {
   "display_name": "Python 3 (ipykernel)",
   "language": "python",
   "name": "python3"
  },
  "language_info": {
   "codemirror_mode": {
    "name": "ipython",
    "version": 3
   },
   "file_extension": ".py",
   "mimetype": "text/x-python",
   "name": "python",
   "nbconvert_exporter": "python",
   "pygments_lexer": "ipython3",
   "version": "3.11.5"
  }
 },
 "nbformat": 4,
 "nbformat_minor": 5
}
